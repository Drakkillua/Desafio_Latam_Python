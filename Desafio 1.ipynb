{
 "cells": [
  {
   "cell_type": "markdown",
   "id": "f77e55f5",
   "metadata": {},
   "source": [
    "# Ejercicio 1: El salario del vendedor"
   ]
  },
  {
   "cell_type": "code",
   "execution_count": 1,
   "id": "75a9612c",
   "metadata": {},
   "outputs": [],
   "source": [
    "def Salario(): #creamos la función Salario\n",
    "    Ventas = int(input('¿Cuanto vendiste esta semana?')) #Se solicita la cantidad de ventas\n",
    "    Salario = 500 + Ventas*0.1 #Se calcula el salario incluyendo el valor base\n",
    "    print('Tu salario es: $'+str(Salario)) #se imprime el resultado del salario"
   ]
  },
  {
   "cell_type": "code",
   "execution_count": 2,
   "id": "394f2ef5",
   "metadata": {},
   "outputs": [
    {
     "name": "stdout",
     "output_type": "stream",
     "text": [
      "¿Cuanto vendiste esta semana?10000\n",
      "Tu salario es: $1500.0\n"
     ]
    }
   ],
   "source": [
    "Salario() #Ejemplo"
   ]
  },
  {
   "cell_type": "markdown",
   "id": "8a4ad281",
   "metadata": {},
   "source": [
    "# Ejercicio 2: Diccionario de frutas"
   ]
  },
  {
   "cell_type": "code",
   "execution_count": 3,
   "id": "e24c952d",
   "metadata": {},
   "outputs": [],
   "source": [
    "catalogo_frutas = {} #Creamos un diccionario vacío"
   ]
  },
  {
   "cell_type": "code",
   "execution_count": 4,
   "id": "b15bb2d0",
   "metadata": {},
   "outputs": [],
   "source": [
    "#Agregamos algunas entradas\n",
    "catalogo_frutas['Plátano'],catalogo_frutas['Manzana'],catalogo_frutas['Uva'],catalogo_frutas['Kiwi'] = 2000, 1500, 1200, 100"
   ]
  },
  {
   "cell_type": "code",
   "execution_count": 5,
   "id": "5d8f842e",
   "metadata": {},
   "outputs": [],
   "source": [
    "def Checkfruta(): #Creamos la función de chequeo de fruta\n",
    "    Fruta = input('Ingrese la fruta') #Solicitamos la fruta a revisar en el diccionario\n",
    "    if Fruta in catalogo_frutas: #Se revisa si la fruta se encuentra en el catálogo\n",
    "        print(f'El precio es {catalogo_frutas[Fruta]}') #Si se encuentra, se imprime el valor\n",
    "    else: #Si no se encuentra se imprime que no existe en el catálogo\n",
    "        print('Esa fruta no se encuentra en nuestra tienda')"
   ]
  },
  {
   "cell_type": "code",
   "execution_count": 6,
   "id": "dcd33e01",
   "metadata": {},
   "outputs": [
    {
     "name": "stdout",
     "output_type": "stream",
     "text": [
      "Ingrese la frutaManzana\n",
      "El precio es 1500\n"
     ]
    }
   ],
   "source": [
    "Checkfruta() #Ejemplo"
   ]
  },
  {
   "cell_type": "markdown",
   "id": "f6167db1",
   "metadata": {},
   "source": [
    "# Ejercicio 3: Jugando en el casino"
   ]
  },
  {
   "cell_type": "code",
   "execution_count": 7,
   "id": "16a04891",
   "metadata": {},
   "outputs": [],
   "source": [
    "import random #Importamos la libreria random"
   ]
  },
  {
   "cell_type": "code",
   "execution_count": 8,
   "id": "170a0d52",
   "metadata": {},
   "outputs": [],
   "source": [
    "def dados(): #Creamos la función del juego de dados\n",
    "    dado1,dado2=random.choices([1,2,3,4,5,6],k=2) #Se guardan los valores de los dados 1 y 2\n",
    "    print('dado 1 = ' +str(dado1)+', dado 2 = ' +str(dado2)+', suma = ' +str(dado1+dado2)) #Se imprime los valores de los dados, y la suma de ellos"
   ]
  },
  {
   "cell_type": "code",
   "execution_count": 9,
   "id": "25c6cd7e",
   "metadata": {},
   "outputs": [
    {
     "name": "stdout",
     "output_type": "stream",
     "text": [
      "dado 1 = 5, dado 2 = 4, suma = 9\n"
     ]
    }
   ],
   "source": [
    "dados() #Ejemplo"
   ]
  },
  {
   "cell_type": "markdown",
   "id": "5253758e",
   "metadata": {},
   "source": [
    "# Ejercicio 4: Calculadora de chocolate"
   ]
  },
  {
   "cell_type": "code",
   "execution_count": 10,
   "id": "bfe1d5af",
   "metadata": {},
   "outputs": [],
   "source": [
    "def CalChocolate(): #Definimos la función para calcular el límite de chocolate\n",
    "    lim_diario=int(input('¿Cuántas calorias puedes comer hoy?')) #Preguntamos la cantidad de calorías diarias que puedes comer\n",
    "    calorias_cho=int(input('¿Cuántas calorías tiene la porción de chocolate?')) #Preguntamos las calorías de la porción de chocolate\n",
    "    comer=lim_diario//calorias_cho #Calculamos la cantidad de chocolate máximo, truncamos con la división entera\n",
    "    print(f'Puedes comer hasta {comer} porciones de chocolate') #Se imprime la cantidad máxima diaria que se puede comer\n",
    "     "
   ]
  },
  {
   "cell_type": "code",
   "execution_count": 11,
   "id": "78276235",
   "metadata": {},
   "outputs": [
    {
     "name": "stdout",
     "output_type": "stream",
     "text": [
      "¿Cuántas calorias puedes comer hoy?2200\n",
      "¿Cuántas calorías tiene la porción de chocolate?180\n",
      "Puedes comer hasta 12 porciones de chocolate\n"
     ]
    }
   ],
   "source": [
    "CalChocolate() #Ejemplo"
   ]
  },
  {
   "cell_type": "code",
   "execution_count": null,
   "id": "b3497b6d",
   "metadata": {},
   "outputs": [],
   "source": []
  }
 ],
 "metadata": {
  "kernelspec": {
   "display_name": "Python 3 (ipykernel)",
   "language": "python",
   "name": "python3"
  },
  "language_info": {
   "codemirror_mode": {
    "name": "ipython",
    "version": 3
   },
   "file_extension": ".py",
   "mimetype": "text/x-python",
   "name": "python",
   "nbconvert_exporter": "python",
   "pygments_lexer": "ipython3",
   "version": "3.7.4"
  }
 },
 "nbformat": 4,
 "nbformat_minor": 5
}
