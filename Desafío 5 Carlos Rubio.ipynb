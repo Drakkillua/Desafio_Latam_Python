{
 "cells": [
  {
   "cell_type": "markdown",
   "id": "f47a5da4",
   "metadata": {},
   "source": [
    "# Desafío 5: Carlos Rubio"
   ]
  },
  {
   "cell_type": "markdown",
   "id": "68713ab6",
   "metadata": {},
   "source": [
    "Ejercicio 1: Trabajaremos con 3 archivos y manipularemos los datos"
   ]
  },
  {
   "cell_type": "code",
   "execution_count": 1,
   "id": "1043cd60",
   "metadata": {},
   "outputs": [],
   "source": [
    "#Cargamos las librerías a utilizar\n",
    "import pandas as pd\n",
    "import numpy as np"
   ]
  },
  {
   "cell_type": "code",
   "execution_count": 2,
   "id": "3adbd7c4",
   "metadata": {},
   "outputs": [],
   "source": [
    "#Creamos los DataFrames de los tres archivos\n",
    "incidents = pd.read_pickle('incidents.pkl')\n",
    "officers = pd.read_pickle('officers.pkl')\n",
    "subjects = pd.read_pickle('subjects.pkl')"
   ]
  },
  {
   "cell_type": "code",
   "execution_count": 3,
   "id": "92fdba60",
   "metadata": {},
   "outputs": [],
   "source": [
    "#Creamos un DataFrame con la unión de los 3 archivos, usamos el atributo pd.merge(), la unión será tipo 'outer' para no perder ningún dato en la unión\n",
    "#como existen columnas en comun en los DataFrames officers y subjects, usamos la opción suffixes para diferenciarlos\n",
    "df = pd.merge(incidents,pd.merge(officers,subjects,on= 'case_number',suffixes=['_officer','_subject'],how='outer'),on= 'case_number',how='outer')"
   ]
  },
  {
   "cell_type": "code",
   "execution_count": 4,
   "id": "a2cece93",
   "metadata": {},
   "outputs": [],
   "source": [
    "#Si existen filas duplicadas, se eliminan en el nuevo DataFrame df_sin_duplicados\n",
    "df_sin_duplicados=df.set_index(df.case_number).drop_duplicates()"
   ]
  },
  {
   "cell_type": "code",
   "execution_count": 8,
   "id": "a65a887c",
   "metadata": {},
   "outputs": [
    {
     "name": "stdout",
     "output_type": "stream",
     "text": [
      "Hay 29 sujetos femeninos en los datos\n"
     ]
    }
   ],
   "source": [
    "#Contamos cuantos sujetos femeninos existen en los datos. Pueden ser oficiales o sospechosas.\n",
    "mujeres=df_sin_duplicados.value_counts('gender_officer')+df_sin_duplicados.value_counts('gender_subject')\n",
    "print(f'Hay {mujeres.iloc[1]} sujetos femeninos en los datos')"
   ]
  },
  {
   "cell_type": "code",
   "execution_count": 9,
   "id": "400e8653",
   "metadata": {},
   "outputs": [
    {
     "name": "stdout",
     "output_type": "stream",
     "text": [
      "Hay 7 casos donde hay por lo menos una mujer sospechosa\n"
     ]
    }
   ],
   "source": [
    "#Contamos cuantos casos hay por lo menos una mujer sospechosa. Para eso filtramos por el género de las sospechosas y luego usamos el atributo .unique() para descartar duplicados en los casos.\n",
    "#La función len() cuenta el número de casos que se obtienen.\n",
    "casos=len(df_sin_duplicados[df_sin_duplicados.gender_subject=='F'].case_number.unique())\n",
    "print(f'Hay {casos} casos donde hay por lo menos una mujer sospechosa')"
   ]
  },
  {
   "cell_type": "code",
   "execution_count": 10,
   "id": "f4702f46",
   "metadata": {},
   "outputs": [
    {
     "data": {
      "text/html": [
       "<div>\n",
       "<style scoped>\n",
       "    .dataframe tbody tr th:only-of-type {\n",
       "        vertical-align: middle;\n",
       "    }\n",
       "\n",
       "    .dataframe tbody tr th {\n",
       "        vertical-align: top;\n",
       "    }\n",
       "\n",
       "    .dataframe thead th {\n",
       "        text-align: right;\n",
       "    }\n",
       "</style>\n",
       "<table border=\"1\" class=\"dataframe\">\n",
       "  <thead>\n",
       "    <tr style=\"text-align: right;\">\n",
       "      <th>gender_subject</th>\n",
       "      <th>F</th>\n",
       "      <th>M</th>\n",
       "      <th>All</th>\n",
       "    </tr>\n",
       "    <tr>\n",
       "      <th>gender_officer</th>\n",
       "      <th></th>\n",
       "      <th></th>\n",
       "      <th></th>\n",
       "    </tr>\n",
       "  </thead>\n",
       "  <tbody>\n",
       "    <tr>\n",
       "      <th>F</th>\n",
       "      <td>2</td>\n",
       "      <td>18</td>\n",
       "      <td>20</td>\n",
       "    </tr>\n",
       "    <tr>\n",
       "      <th>M</th>\n",
       "      <td>7</td>\n",
       "      <td>350</td>\n",
       "      <td>357</td>\n",
       "    </tr>\n",
       "    <tr>\n",
       "      <th>All</th>\n",
       "      <td>9</td>\n",
       "      <td>368</td>\n",
       "      <td>377</td>\n",
       "    </tr>\n",
       "  </tbody>\n",
       "</table>\n",
       "</div>"
      ],
      "text/plain": [
       "gender_subject  F    M  All\n",
       "gender_officer             \n",
       "F               2   18   20\n",
       "M               7  350  357\n",
       "All             9  368  377"
      ]
     },
     "execution_count": 10,
     "metadata": {},
     "output_type": "execute_result"
    }
   ],
   "source": [
    "#Creamos la tabla pivote entre el género de los oficiales y los sospechosos, la función de agregación es 'count' para contar el número de veces que se relacionan\n",
    "df_pivot = pd.pivot_table(df_sin_duplicados,values='case_number',index = 'gender_officer',columns='gender_subject',aggfunc= 'count',margins=True)\n",
    "df_pivot"
   ]
  },
  {
   "cell_type": "markdown",
   "id": "b01b525d",
   "metadata": {},
   "source": [
    "De la tabla se observa que en su mayoría fueron oficiales hombres los involucrados con sospechosos hombres. Además el total de mujeres sospechosas es 9, eso quiere decir que o en un caso hubo implicada tres mujeres o en dos casos fueron dos sospechosas (que es el caso de esta muestra)."
   ]
  },
  {
   "cell_type": "markdown",
   "id": "f5cf80dc",
   "metadata": {},
   "source": [
    "Ejercicio 2"
   ]
  },
  {
   "cell_type": "code",
   "execution_count": 11,
   "id": "59114fa4",
   "metadata": {},
   "outputs": [],
   "source": [
    "#Cargamos el nuevo archivo\n",
    "df = pd.read_csv('Cleaned_DS_Jobs.csv')"
   ]
  },
  {
   "cell_type": "code",
   "execution_count": 12,
   "id": "c59df0c2",
   "metadata": {},
   "outputs": [],
   "source": [
    "#Reemplazamos los valores considerados nulos por np.nan\n",
    "nulos=[\"na\", \"NA\",-1, \"0\", \"-1\", \"null\", \"n/a\", \"N/A\", \"NULL\"]\n",
    "df=df.replace(nulos,np.nan)"
   ]
  },
  {
   "cell_type": "code",
   "execution_count": 13,
   "id": "93cbf902",
   "metadata": {},
   "outputs": [],
   "source": [
    "#eliminamos las filas con datos faltantes\n",
    "df=df.dropna()"
   ]
  },
  {
   "cell_type": "code",
   "execution_count": 14,
   "id": "f13f77c4",
   "metadata": {},
   "outputs": [],
   "source": [
    "#Creamos las columnas 'Salario Estimado Mínimo' y 'Salario Estimado Máximo'. \n",
    "#Usamos el método apply con una función lambda que separa el string de la columna 'Salary Estimate' por el '-'\n",
    "df[['Salario Estimado Mínimo', 'Salario Estimado Máximo']] = \\\n",
    "df['Salary Estimate'].apply(lambda x: pd.Series([i for i in x.split('-')]))"
   ]
  },
  {
   "cell_type": "code",
   "execution_count": 15,
   "id": "468853a7",
   "metadata": {},
   "outputs": [],
   "source": [
    "#Cremos un diccionario donde se califica el tipo de empresa según el tamaño que tiene\n",
    "tipo_empresa=['Mega Empresas','Grandes Empresas','Medianas Empresas','Pequeñas Empresas',\\\n",
    "              'Pequeñas Grandes Empresas','Microempresas','Empresas sin Información']\n",
    "tamaño_empresa=dict(zip(sorted(df.Size.unique()),tipo_empresa))\n",
    "#Reemplazamos la columna 'Size' por la clasificación del tipo de empresa usando el diccionario.\n",
    "df_replaced = df.replace(tamaño_empresa).reset_index(drop=True)"
   ]
  },
  {
   "cell_type": "code",
   "execution_count": 16,
   "id": "e7583fc5",
   "metadata": {},
   "outputs": [
    {
     "data": {
      "text/html": [
       "<div>\n",
       "<style scoped>\n",
       "    .dataframe tbody tr th:only-of-type {\n",
       "        vertical-align: middle;\n",
       "    }\n",
       "\n",
       "    .dataframe tbody tr th {\n",
       "        vertical-align: top;\n",
       "    }\n",
       "\n",
       "    .dataframe thead th {\n",
       "        text-align: right;\n",
       "    }\n",
       "</style>\n",
       "<table border=\"1\" class=\"dataframe\">\n",
       "  <thead>\n",
       "    <tr style=\"text-align: right;\">\n",
       "      <th></th>\n",
       "      <th>Promedio Salario Máximo</th>\n",
       "      <th>Promedio Salario Mínimo</th>\n",
       "    </tr>\n",
       "    <tr>\n",
       "      <th>Size</th>\n",
       "      <th></th>\n",
       "      <th></th>\n",
       "    </tr>\n",
       "  </thead>\n",
       "  <tbody>\n",
       "    <tr>\n",
       "      <th>Empresas sin Información</th>\n",
       "      <td>110.500000</td>\n",
       "      <td>73.000000</td>\n",
       "    </tr>\n",
       "    <tr>\n",
       "      <th>Grandes Empresas</th>\n",
       "      <td>137.461538</td>\n",
       "      <td>93.923077</td>\n",
       "    </tr>\n",
       "    <tr>\n",
       "      <th>Medianas Empresas</th>\n",
       "      <td>141.142857</td>\n",
       "      <td>93.571429</td>\n",
       "    </tr>\n",
       "    <tr>\n",
       "      <th>Mega Empresas</th>\n",
       "      <td>151.111111</td>\n",
       "      <td>97.888889</td>\n",
       "    </tr>\n",
       "    <tr>\n",
       "      <th>Microempresas</th>\n",
       "      <td>137.666667</td>\n",
       "      <td>100.666667</td>\n",
       "    </tr>\n",
       "    <tr>\n",
       "      <th>Pequeñas Empresas</th>\n",
       "      <td>138.875000</td>\n",
       "      <td>92.125000</td>\n",
       "    </tr>\n",
       "    <tr>\n",
       "      <th>Pequeñas Grandes Empresas</th>\n",
       "      <td>146.235294</td>\n",
       "      <td>100.176471</td>\n",
       "    </tr>\n",
       "    <tr>\n",
       "      <th>All</th>\n",
       "      <td>141.137500</td>\n",
       "      <td>95.512500</td>\n",
       "    </tr>\n",
       "  </tbody>\n",
       "</table>\n",
       "</div>"
      ],
      "text/plain": [
       "                           Promedio Salario Máximo  Promedio Salario Mínimo\n",
       "Size                                                                       \n",
       "Empresas sin Información                110.500000                73.000000\n",
       "Grandes Empresas                        137.461538                93.923077\n",
       "Medianas Empresas                       141.142857                93.571429\n",
       "Mega Empresas                           151.111111                97.888889\n",
       "Microempresas                           137.666667               100.666667\n",
       "Pequeñas Empresas                       138.875000                92.125000\n",
       "Pequeñas Grandes Empresas               146.235294               100.176471\n",
       "All                                     141.137500                95.512500"
      ]
     },
     "execution_count": 16,
     "metadata": {},
     "output_type": "execute_result"
    }
   ],
   "source": [
    "#Transformamos los valores de las columnas de Salario de string a float\n",
    "df_replaced[['Salario Estimado Máximo','Salario Estimado Mínimo']]=\\\n",
    "df_replaced[['Salario Estimado Máximo','Salario Estimado Mínimo']].apply(pd.to_numeric)\n",
    "\n",
    "#Creamos una tabla pivote con la media de los Salarios en función del tamaño de la empresa\n",
    "df_pivot = pd.pivot_table(df_replaced,values=['Salario Estimado Mínimo','Salario Estimado Máximo'],\\\n",
    "                          index = 'Size',aggfunc= 'mean',margins=True)\n",
    "\n",
    "#Renombramos las columnas\n",
    "df_pivot = df_pivot.rename(columns={'Salario Estimado Mínimo':'Promedio Salario Mínimo','Salario Estimado Máximo':'Promedio Salario Máximo'})\n",
    "\n",
    "df_pivot"
   ]
  },
  {
   "cell_type": "code",
   "execution_count": null,
   "id": "acc1264e",
   "metadata": {},
   "outputs": [],
   "source": []
  }
 ],
 "metadata": {
  "kernelspec": {
   "display_name": "Python 3 (ipykernel)",
   "language": "python",
   "name": "python3"
  },
  "language_info": {
   "codemirror_mode": {
    "name": "ipython",
    "version": 3
   },
   "file_extension": ".py",
   "mimetype": "text/x-python",
   "name": "python",
   "nbconvert_exporter": "python",
   "pygments_lexer": "ipython3",
   "version": "3.11.7"
  }
 },
 "nbformat": 4,
 "nbformat_minor": 5
}
