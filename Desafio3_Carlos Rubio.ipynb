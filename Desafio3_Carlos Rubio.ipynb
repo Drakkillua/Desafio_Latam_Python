{
 "cells": [
  {
   "cell_type": "markdown",
   "id": "ffcb5f8e",
   "metadata": {},
   "source": [
    "# Desafio 3: Carlos Rubio"
   ]
  },
  {
   "cell_type": "markdown",
   "id": "3ddf3b86",
   "metadata": {},
   "source": [
    "Problema 1: En este problema trabajaremos sobre una lista llamada \"lista\" y utilizaremos algunas de las funciones asociadas para filtrar, modificar y ordenar la lista."
   ]
  },
  {
   "cell_type": "code",
   "execution_count": 24,
   "id": "6430d631",
   "metadata": {
    "scrolled": false
   },
   "outputs": [
    {
     "name": "stdout",
     "output_type": "stream",
     "text": [
      "kiwi\n",
      "['plátano', 'kiwi', 'uva']\n"
     ]
    },
    {
     "data": {
      "text/plain": [
       "['kiwi',\n",
       " 'mango',\n",
       " 'manzana',\n",
       " 'melón',\n",
       " 'pepino',\n",
       " 'pera',\n",
       " 'piña',\n",
       " 'plátano',\n",
       " 'sandía',\n",
       " 'tuna',\n",
       " 'uva']"
      ]
     },
     "execution_count": 24,
     "metadata": {},
     "output_type": "execute_result"
    }
   ],
   "source": [
    "lista = [\"manzana\", \"pera\", \"naranja\", \"plátano\", \"kiwi\", \"uva\", \"piña\",\"mango\", \"sandía\", \"melón\"]\n",
    "print(lista[4])  #Que imprima el quinto elemento de la lista, recordad que el índice parte de 0 en adelante\n",
    "print(lista[3:6]) #Que imprima del cuarto al sexto elemento inclusive. lista[n1:n2] es una manera de abreviar el filtro del rango\n",
    "#donde comienza a imprimir desde el n1-ésimo elemento hasta el (n2-1)-ésimo elemento, por eso se pide [3:6] y no [3:5] \n",
    "lista.remove(lista[2]) #Eliminamos el tercer elemento de la lista\n",
    "lista.append('pepino') #Agregamos un elemento de la lista en la última posición\n",
    "lista.append('tuna') #Agregamos un elemento de la lista en la última posición\n",
    "lista.sort() #Ordenamos la lista, al tener elemenos tipo string, se ordena alfabéticamente\n",
    "lista"
   ]
  },
  {
   "cell_type": "code",
   "execution_count": 25,
   "id": "4ca979e2",
   "metadata": {},
   "outputs": [
    {
     "data": {
      "text/plain": [
       "{'uno': 'kiwi',\n",
       " 'dos': 'mango',\n",
       " 'tres': 'manzana',\n",
       " 'cuatro': 'melón',\n",
       " 'cinco': 'pepino',\n",
       " 'seis': 'pera',\n",
       " 'siete': 'piña',\n",
       " 'ocho': 'plátano',\n",
       " 'nueve': 'sandía',\n",
       " 'diez': 'tuna'}"
      ]
     },
     "execution_count": 25,
     "metadata": {},
     "output_type": "execute_result"
    }
   ],
   "source": [
    "lista1 = [\"uno\", \"dos\", \"tres\", \"cuatro\", \"cinco\", \"seis\", \"siete\",\n",
    " \"ocho\", \"nueve\", \"diez\"] #consideremos una nueva lista\n",
    "diccionario = dict(zip(lista1,lista)) #Creamos un diccionario donde las llaves son la lista1 y los valores son los elementos de lista\n",
    "#Como lista1 tiene sólamente 10 elementos, mientras que lista tiene 11, la asignación de valores sólo llegará hasta el elemento 10 de lista\n",
    "diccionario"
   ]
  },
  {
   "cell_type": "markdown",
   "id": "5dd90aae",
   "metadata": {},
   "source": [
    "Problema 2: En este ejercicio analizaremos los datos obtenido del archivo alcohol_cerveza.csv usando la librería numpy y algunas de sus funciones. El archivo tiene números float que representan la cantidad de alcohol que tienen 1000 lotes de cerveza."
   ]
  },
  {
   "cell_type": "code",
   "execution_count": 1,
   "id": "5f6d5ea9",
   "metadata": {},
   "outputs": [],
   "source": [
    "import numpy as np #Importamos la libreria Numpy"
   ]
  },
  {
   "cell_type": "code",
   "execution_count": 4,
   "id": "9cc2d82d",
   "metadata": {},
   "outputs": [],
   "source": [
    "array = np.loadtxt('alcohol_cerveza.csv',dtype=float) #Cargamos los datos del arrivo en el np.array llamado array"
   ]
  },
  {
   "cell_type": "code",
   "execution_count": 7,
   "id": "ddf06b3f",
   "metadata": {},
   "outputs": [
    {
     "data": {
      "text/plain": [
       "5.005334665334665"
      ]
     },
     "execution_count": 7,
     "metadata": {},
     "output_type": "execute_result"
    }
   ],
   "source": [
    "media = array.mean() #Calculamos la media. np.mean(array) es otra manera de llamar a la función. La diferencia es que np.mean()\n",
    "#permite evaluar una lista mientras que array.mean() sólo funciona con arrays que ya son de Numpy\n",
    "media"
   ]
  },
  {
   "cell_type": "code",
   "execution_count": 8,
   "id": "44cf36fa",
   "metadata": {},
   "outputs": [
    {
     "data": {
      "text/plain": [
       "0.34934892044901755"
      ]
     },
     "execution_count": 8,
     "metadata": {},
     "output_type": "execute_result"
    }
   ],
   "source": [
    "desviacion = array.std() #Calculamos la desviación estandar\n",
    "desviacion"
   ]
  },
  {
   "cell_type": "code",
   "execution_count": 10,
   "id": "9d1c7355",
   "metadata": {},
   "outputs": [
    {
     "data": {
      "text/plain": [
       "3.9572879039876123"
      ]
     },
     "execution_count": 10,
     "metadata": {},
     "output_type": "execute_result"
    }
   ],
   "source": [
    "lic = media-3*desviacion #Calculmos el límite inferior de control (lic), que representa el valor inferior para el intervalo \n",
    "#de confianza de un 99%\n",
    "lic"
   ]
  },
  {
   "cell_type": "code",
   "execution_count": 11,
   "id": "0e5bdcaa",
   "metadata": {},
   "outputs": [
    {
     "data": {
      "text/plain": [
       "6.053381426681717"
      ]
     },
     "execution_count": 11,
     "metadata": {},
     "output_type": "execute_result"
    }
   ],
   "source": [
    "lsc = media+3*desviacion #Calculmos el límite superior de control (lsc), que representa el valor superior para el intervalo \n",
    "#de confianza de un 99%\n",
    "lsc"
   ]
  },
  {
   "cell_type": "code",
   "execution_count": 16,
   "id": "dafd1415",
   "metadata": {},
   "outputs": [
    {
     "data": {
      "text/plain": [
       "array([0.  , 3.87])"
      ]
     },
     "execution_count": 16,
     "metadata": {},
     "output_type": "execute_result"
    }
   ],
   "source": [
    "array[np.logical_or(array<lic,array>lsc)] #Filtramos el array con los datos que están fuera del límite de control.\n",
    "#la función np.logical_or recibe dos condiciones, en este caso valores que están por debajo del lic o por sobre el lsc. \n",
    "#El resultado es un array de booleanos del largo igual al array, que servirá para llamar a los elementos que están fuera del intervalo de confianza"
   ]
  }
 ],
 "metadata": {
  "kernelspec": {
   "display_name": "Python 3 (ipykernel)",
   "language": "python",
   "name": "python3"
  },
  "language_info": {
   "codemirror_mode": {
    "name": "ipython",
    "version": 3
   },
   "file_extension": ".py",
   "mimetype": "text/x-python",
   "name": "python",
   "nbconvert_exporter": "python",
   "pygments_lexer": "ipython3",
   "version": "3.11.7"
  }
 },
 "nbformat": 4,
 "nbformat_minor": 5
}
