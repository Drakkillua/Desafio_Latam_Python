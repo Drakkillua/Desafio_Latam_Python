{
 "cells": [
  {
   "cell_type": "markdown",
   "id": "94f5096e",
   "metadata": {},
   "source": [
    "# Desafío 2: Carlos Rubio Flores"
   ]
  },
  {
   "cell_type": "markdown",
   "id": "1efbd146",
   "metadata": {},
   "source": [
    "## Suma de números pares"
   ]
  },
  {
   "cell_type": "markdown",
   "id": "7f887a13",
   "metadata": {},
   "source": [
    "En este problema se creará una función que pedirá dos números enteros y entregará la suma de los números pares que existan entre ambos números"
   ]
  },
  {
   "cell_type": "code",
   "execution_count": 22,
   "id": "8448f0c5",
   "metadata": {},
   "outputs": [],
   "source": [
    "def Sumadenumerospares():\n",
    "    N1 = int(input('Ingresa el primer número entero'))\n",
    "    N2 = int(input('Ingresa el segundo número entero'))\n",
    "    dif = N2-N1\n",
    "    suma = 0 #Nuestra variable que acumulará las contribuciones a la suma\n",
    "    if dif > 0: #Si el segundo número es mayor al primero ingresa, evalúa directamente qué números pares existen entre ambos\n",
    "        for i in range(N1+1,N2): #recorremos todos los números entre los enteros entregados por el usuario\n",
    "            if i%2 == 0: # N%2 calcula el residuo del cuociente entre un número y 2, un número par tendrá residuo igual a 0 \n",
    "                suma+=i  #Cada número que sea par se irá sumando a nuestra variable suma\n",
    "    elif dif < 0: #Si el primer número ingresado es mayor al segundo, se invierte el signo de la diferencia. \n",
    "        for i in range(N2+1,N1): #se repite el proceso\n",
    "            if i%2 == 0:\n",
    "                suma+=i\n",
    "    print(f'La suma de los números pares entre {N1} y {N2} es: {suma}')\n",
    "        \n"
   ]
  },
  {
   "cell_type": "code",
   "execution_count": 24,
   "id": "94d61478",
   "metadata": {
    "scrolled": false
   },
   "outputs": [
    {
     "name": "stdout",
     "output_type": "stream",
     "text": [
      "Ingresa el primer número entero10\n",
      "Ingresa el segundo número entero2\n",
      "La suma de los números pares entre 10 y 2 es: 18\n"
     ]
    }
   ],
   "source": [
    "Sumadenumerospares()"
   ]
  },
  {
   "cell_type": "markdown",
   "id": "c2033650",
   "metadata": {},
   "source": [
    "## Calculadora de áreas"
   ]
  },
  {
   "cell_type": "markdown",
   "id": "06817957",
   "metadata": {},
   "source": [
    "En este ejercicio crearemos una función que solicite al usuario una figura geométrica que puede ser cuadrado, triángulo o círculo, para luego solicitar las medidas correspondientes para calcular el área"
   ]
  },
  {
   "cell_type": "code",
   "execution_count": 25,
   "id": "d6b15620",
   "metadata": {},
   "outputs": [],
   "source": [
    "import math #Importamos la librería math para acceder a la variable pi con math.pi"
   ]
  },
  {
   "cell_type": "code",
   "execution_count": null,
   "id": "7f20ec38",
   "metadata": {},
   "outputs": [],
   "source": [
    "def area():\n",
    "    Figura = input('Ingrese la figura (cuadrado, triángulo o círculo)') #Se solicita la figura geométrica\n",
    "    if Figura == 'cuadrado': #Si la figura es cuadrado, se pide el lado del cuadrado y se imprime el área\n",
    "        lado = float(input('Ingrese el lado del cuadrado'))\n",
    "        print(f'El área del {Figura} es {lado**2}')\n",
    "    elif Figura == 'triángulo': #Si la figura es triángulo, se pide la base y altura del triángulo y se imprime el área\n",
    "        base = float(input('Ingrese la base del triángulo'))\n",
    "        altura = float(input('Ingrese la altura del triángulo'))\n",
    "        print(f'El área del {Figura} es {base*altura/2}')\n",
    "    elif Figura == 'círculo': #Si la figura es círculo, se pide el radio del círculo y se imprime el área\n",
    "        radio = float(input('Ingrese el radio del círculo'))\n",
    "        print(f'El área del {Figura} es {math.pi*radio**2}')\n",
    "    else: #Si se ingresa cualquier otra opción, se avisa que no se conoce esa figura\n",
    "        print('No conozco esa figura')\n",
    "    "
   ]
  },
  {
   "cell_type": "code",
   "execution_count": 130,
   "id": "e3f17658",
   "metadata": {
    "scrolled": true
   },
   "outputs": [
    {
     "name": "stdout",
     "output_type": "stream",
     "text": [
      "Ingrese la figura (cuadrado, triángulo o círculo)círculo\n",
      "Ingrese el radio del círculo3\n",
      "El área del círculo es 28.274333882308138\n"
     ]
    }
   ],
   "source": [
    "area()"
   ]
  },
  {
   "cell_type": "markdown",
   "id": "f6c48c48",
   "metadata": {},
   "source": [
    "## Adivinar el número"
   ]
  },
  {
   "cell_type": "markdown",
   "id": "562dc35b",
   "metadata": {},
   "source": [
    "En este juego, crearemos una función que genera un número aleatorio entre 1 y 100. Luego, se le pedirá al usuario que adivine el número. Si su respuesta es incorrecta, el programa continuará pidiendo al usuario su respuesta hasta adivinar."
   ]
  },
  {
   "cell_type": "code",
   "execution_count": 37,
   "id": "cae85102",
   "metadata": {},
   "outputs": [],
   "source": [
    "import random #Importamos la librería random para generar el número aleatorio entre 1 y 100"
   ]
  },
  {
   "cell_type": "code",
   "execution_count": 145,
   "id": "80a83dd9",
   "metadata": {},
   "outputs": [],
   "source": [
    "def Adivinaelnumero():\n",
    "    N=random.randint(1,100) #Generamos el número aleatorio y pedimos al usuario que adivine\n",
    "    guess = int(input('Adivine el número entre 1 y 100'))\n",
    "    while guess != N: #Mientras la respuesta del usuario sea distinta al número generado, continuará pidiendo que el usuario responda\n",
    "        if guess > N:\n",
    "            guess = int(input('Incorrecto, el número es más pequeño. Intenta de nuevo '))\n",
    "        elif guess < N:\n",
    "            guess = int(input('Incorrecto, el número es más grande. Intenta de nuevo '))\n",
    "    print(f'¡Correcto! El número es {guess}')"
   ]
  },
  {
   "cell_type": "code",
   "execution_count": 147,
   "id": "24d1fc7a",
   "metadata": {
    "scrolled": true
   },
   "outputs": [
    {
     "name": "stdout",
     "output_type": "stream",
     "text": [
      "Adivine el número entre 1 y 10050\n",
      "Incorrecto, el número es más grande. Intenta de nuevo 75\n",
      "Incorrecto, el número es más grande. Intenta de nuevo 90\n",
      "Incorrecto, el número es más pequeño. Intenta de nuevo 87\n",
      "Incorrecto, el número es más pequeño. Intenta de nuevo 81\n",
      "Incorrecto, el número es más grande. Intenta de nuevo 84\n",
      "Incorrecto, el número es más grande. Intenta de nuevo 85\n",
      "¡Correcto! El número es 85\n"
     ]
    }
   ],
   "source": [
    "Adivinaelnumero()"
   ]
  },
  {
   "cell_type": "markdown",
   "id": "173a3400",
   "metadata": {},
   "source": [
    "## Carrera del caracol"
   ]
  },
  {
   "cell_type": "markdown",
   "id": "7dc4b3fa",
   "metadata": {},
   "source": [
    "En esta actividad, crearemos una función que describa y visualice el avance de un caracol en una carrera. El usuario definirá la velocidad que lleva el caracol. El largo de la carrera se normaliza a 100."
   ]
  },
  {
   "cell_type": "code",
   "execution_count": 51,
   "id": "854cd6f9",
   "metadata": {},
   "outputs": [],
   "source": [
    "import emojis #importamos la librería emojis para incorporar emojis en la visualización\n",
    "import time  #importamos la librería time para pausar la iteración y darle dinamismo a la visualización de la carrera"
   ]
  },
  {
   "cell_type": "code",
   "execution_count": 131,
   "id": "65986028",
   "metadata": {},
   "outputs": [],
   "source": [
    "def carreracaracol()\n",
    "    velocidad = round(float(input('¿A qué velocidad se mueve el caracol? (Se aproximará al entero más cercano)')))\n",
    "    #La velocidad se aproxima al número entero más cercano porque la visualización estará dada por una concatenación de strings,\n",
    "    #y para ellos solo podemos amplificar strings por números enteros.\n",
    "    caracol=emojis.encode(':snail:')\n",
    "    Distancia = 100 #Largo de la carrera\n",
    "    posicion = 0 #posición del caracol en el tiempo 0, se irá actualizando la posición a medida que avanza el tiempo\n",
    "    tiempo = 0 #tiempo inicial, se irá actualizando mientras transcurre la carrera\n",
    "    while posicion < Distancia: #Mientras el caracol no llege a la meta, calcule\n",
    "        if velocidad < 0: #Si el usuario ingresa una velocidad negativa, calculamos el valor absoluto y se ejecuta la carrera\n",
    "            print('La velocidad no puede ser negativa, se usará el valor absoluto')\n",
    "            velocidad =-velocidad\n",
    "        elif velocidad ==0: #Si el usuario ingresa una velocidad 0, se cancela la carrera\n",
    "            print('La velocidad no puede ser 0, se cancela la carrera '+emojis.encode(':slightly_frowning_face:'))\n",
    "            break #Si la velocidad entregada es 0, se quiebra el ciclo \"while\" y el programa termina.\n",
    "        print(posicion*'_'+caracol) #Se imprime la posición del caracol\n",
    "        tiempo +=1 #Se actualiza el tiempo en intervalos de 1 segundo.\n",
    "        posicion= velocidad*tiempo #Se actualiza la posición con el tiempo actualizado\n",
    "        time.sleep(0.5) #Se pausa la iteración en 0.5 segundos para que la visualización de la carrera se vea dinámica\n",
    "    if posicion >= Distancia: #Cuando el caracol cruza la meta, se termina la carrera.\n",
    "        print(Distancia*'_'+emojis.encode(':checkered_flag:')+caracol)"
   ]
  },
  {
   "cell_type": "code",
   "execution_count": 132,
   "id": "10b1d416",
   "metadata": {},
   "outputs": [
    {
     "name": "stdout",
     "output_type": "stream",
     "text": [
      "¿A qué velocidad se mueve el caracol? (Se aproximará al entero más cercano)10\n",
      "🐌\n",
      "__________🐌\n",
      "____________________🐌\n",
      "______________________________🐌\n",
      "________________________________________🐌\n",
      "__________________________________________________🐌\n",
      "____________________________________________________________🐌\n",
      "______________________________________________________________________🐌\n",
      "________________________________________________________________________________🐌\n",
      "__________________________________________________________________________________________🐌\n",
      "____________________________________________________________________________________________________🏁🐌\n"
     ]
    }
   ],
   "source": [
    "carreracaracol()"
   ]
  },
  {
   "cell_type": "code",
   "execution_count": null,
   "id": "986a2fc5",
   "metadata": {},
   "outputs": [],
   "source": []
  }
 ],
 "metadata": {
  "kernelspec": {
   "display_name": "Python 3 (ipykernel)",
   "language": "python",
   "name": "python3"
  },
  "language_info": {
   "codemirror_mode": {
    "name": "ipython",
    "version": 3
   },
   "file_extension": ".py",
   "mimetype": "text/x-python",
   "name": "python",
   "nbconvert_exporter": "python",
   "pygments_lexer": "ipython3",
   "version": "3.7.4"
  }
 },
 "nbformat": 4,
 "nbformat_minor": 5
}
